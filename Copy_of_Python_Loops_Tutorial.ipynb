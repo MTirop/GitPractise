{
  "cells": [
    {
      "cell_type": "markdown",
      "metadata": {
        "id": "view-in-github",
        "colab_type": "text"
      },
      "source": [
        "<a href=\"https://colab.research.google.com/github/MTirop/GitPractise/blob/main/Copy_of_Python_Loops_Tutorial.ipynb\" target=\"_parent\"><img src=\"https://colab.research.google.com/assets/colab-badge.svg\" alt=\"Open In Colab\"/></a>"
      ]
    },
    {
      "cell_type": "markdown",
      "id": "2dc26e95",
      "metadata": {
        "id": "2dc26e95"
      },
      "source": [
        "\n",
        "# Python Loops\n",
        "\n",
        "In this notebook, we will learn how to use loops in Python. Loops are used to execute a block of code repeatedly. By the end of this notebook, you will be able to:\n",
        "\n",
        "- Understand and use `for` and `while` loops and their syntax\n",
        "- Work with `range()`\n",
        "- Use `break` and `continue`\n",
        "- Write nested loops\n",
        "- Common Loop patterns\n",
        "- Solve simple problems using loops\n"
      ]
    },
    {
      "cell_type": "markdown",
      "id": "ca836e17",
      "metadata": {
        "id": "ca836e17"
      },
      "source": [
        "\n",
        "## 1. `for` Loops\n",
        "\n",
        "A `for` loop is used to iterate over a sequence (like a list, tuple, dictionary, set, or string).\n",
        "\n",
        "### Syntax:\n",
        "```python\n",
        "for item in sequence:\n",
        "    # do something with item\n",
        "```\n"
      ]
    },
    {
      "cell_type": "code",
      "execution_count": null,
      "id": "a4cc8429",
      "metadata": {
        "id": "a4cc8429"
      },
      "outputs": [],
      "source": [
        "\n",
        "# Example: Looping through a list\n",
        "fruits = [\"apple\", \"banana\", \"cherry\"]\n",
        "for fruit in fruits:\n",
        "    print(fruit)\n"
      ]
    },
    {
      "cell_type": "code",
      "execution_count": null,
      "id": "3f03ad2e",
      "metadata": {
        "id": "3f03ad2e"
      },
      "outputs": [],
      "source": [
        "# Example: Looping through a dictionary\n",
        "student = {\"name\": \"John\", \"age\": 25, \"grade\": \"A\"}\n",
        "\n",
        "# Loop through keys\n",
        "print(\"Keys:\")\n",
        "for key in student:\n",
        "    print(key)\n",
        "\n",
        "# Loop through values\n",
        "print(\"\\nValues:\")\n",
        "for value in student.values():\n",
        "    print(value)\n",
        "\n",
        "# Loop through key-value pairs\n",
        "print(\"\\nItems:\")\n",
        "for key, value in student.items():\n",
        "    print(f\"{key}: {value}\")"
      ]
    },
    {
      "cell_type": "markdown",
      "id": "ef5e6e19",
      "metadata": {
        "id": "ef5e6e19"
      },
      "source": [
        "\n",
        "## 2. `while` Loops\n",
        "\n",
        "A `while` loop repeats as long as a specified condition is true.\n",
        "\n",
        "### Syntax:\n",
        "```python\n",
        "while condition:\n",
        "    # do something\n",
        "```\n"
      ]
    },
    {
      "cell_type": "code",
      "execution_count": null,
      "id": "e667bc4a",
      "metadata": {
        "id": "e667bc4a"
      },
      "outputs": [],
      "source": [
        "\n",
        "# Example: Print numbers from 1 to 5 using a while loop\n",
        "count = 1\n",
        "while count <= 5:\n",
        "    print(count)\n",
        "    count += 1 # This is crucial to avoid an infinite loop!\n"
      ]
    },
    {
      "cell_type": "markdown",
      "id": "bcf2416e",
      "metadata": {
        "id": "bcf2416e"
      },
      "source": [
        "\n",
        "## 3. The `range()` Function\n",
        "\n",
        "The `range()` function returns a sequence of numbers, starting from 0 by default, and increments by 1 (by default), and stops before a specified number.\n",
        "\n",
        "### Syntax:\n",
        "-   `range(stop)`: Generates numbers from `0` up to (but *not including*) `stop`.\n",
        "-   `range(start, stop)`: Generates numbers from `start` up to (but *not including*) `stop`.\n",
        "-   `range(start, stop, step)`: Generates numbers from `start` up to (but *not including*) `stop`, incrementing by `step`. The `step` can be negative for counting down.\n",
        "\n",
        "\n"
      ]
    },
    {
      "cell_type": "code",
      "execution_count": null,
      "id": "051ec485",
      "metadata": {
        "id": "051ec485"
      },
      "outputs": [],
      "source": [
        "\n",
        "# Example: Using range() in a for loop\n",
        "for i in range(5):\n",
        "    print(i)\n"
      ]
    },
    {
      "cell_type": "code",
      "execution_count": null,
      "id": "5ab3c51f",
      "metadata": {
        "id": "5ab3c51f"
      },
      "outputs": [],
      "source": [
        "# Example 2: range(start, stop)\n",
        "for i in range(2, 7):\n",
        "    print(i)  # Prints 2, 3, 4, 5, 6"
      ]
    },
    {
      "cell_type": "code",
      "execution_count": null,
      "id": "0be617f8",
      "metadata": {
        "id": "0be617f8"
      },
      "outputs": [],
      "source": [
        "# Example 3: range(start, stop, step)\n",
        "for i in range(1, 10, 2):\n",
        "    print(i)  # Prints 1, 3, 5, 7, 9\n",
        "\n"
      ]
    },
    {
      "cell_type": "code",
      "execution_count": null,
      "id": "22d9b2d8",
      "metadata": {
        "id": "22d9b2d8"
      },
      "outputs": [],
      "source": [
        "# Example 4: Counting backwards\n",
        "for i in range(10, 0, -1):\n",
        "    print(i)  # Prints 10, 9, 8, 7, 6, 5, 4, 3, 2, 1"
      ]
    },
    {
      "cell_type": "markdown",
      "id": "68c07e98",
      "metadata": {
        "id": "68c07e98"
      },
      "source": [
        "\n",
        "## 4. `break` and `continue`\n",
        "\n",
        "- `break` is used to exit the loop early.\n",
        "- `continue` is used to skip the current iteration and continue with the next one.\n"
      ]
    },
    {
      "cell_type": "code",
      "execution_count": null,
      "id": "4355ecf6",
      "metadata": {
        "id": "4355ecf6"
      },
      "outputs": [],
      "source": [
        "\n",
        "# Example: break\n",
        "for i in range(10):\n",
        "    if i == 5:\n",
        "        break\n",
        "    print(i)\n"
      ]
    },
    {
      "cell_type": "code",
      "execution_count": null,
      "id": "4be8c181",
      "metadata": {
        "id": "4be8c181"
      },
      "outputs": [],
      "source": [
        "\n",
        "# Example: continue\n",
        "for i in range(10):\n",
        "    if i % 2 == 0:\n",
        "        continue\n",
        "    print(i)\n"
      ]
    },
    {
      "cell_type": "markdown",
      "id": "3fa51f8f",
      "metadata": {
        "id": "3fa51f8f"
      },
      "source": [
        "\n",
        "## 5. Nested Loops\n",
        "\n",
        "You can use one loop inside another loop.\n",
        "\n",
        "### Example:\n"
      ]
    },
    {
      "cell_type": "code",
      "execution_count": null,
      "id": "91aa7ccc",
      "metadata": {
        "id": "91aa7ccc"
      },
      "outputs": [],
      "source": [
        "\n",
        "# Example: Nested for loop\n",
        "for i in range(1, 4):\n",
        "    for j in range(1, 4):\n",
        "        print(f\"i = {i}, j = {j}\")\n"
      ]
    },
    {
      "cell_type": "markdown",
      "id": "25aa296e",
      "metadata": {
        "id": "25aa296e"
      },
      "source": [
        "## 6. Common Loop Patterns\n",
        "Let's add practical examples of common loop patterns:"
      ]
    },
    {
      "cell_type": "code",
      "execution_count": null,
      "id": "875b8a93",
      "metadata": {
        "id": "875b8a93"
      },
      "outputs": [],
      "source": [
        "# Sum of numbers\n",
        "numbers = [10, 20, 30, 40, 50]\n",
        "total = 0\n",
        "for num in numbers:\n",
        "    total += num\n",
        "print(f\"Sum: {total}\")"
      ]
    },
    {
      "cell_type": "code",
      "execution_count": null,
      "id": "5c90a76d",
      "metadata": {
        "id": "5c90a76d"
      },
      "outputs": [],
      "source": [
        "# Finding maximum value\n",
        "numbers = [15, 7, 23, 42, 8]\n",
        "max_value = numbers[0]\n",
        "for num in numbers:\n",
        "    if num > max_value:\n",
        "        max_value = num\n",
        "print(f\"Maximum value: {max_value}\")"
      ]
    },
    {
      "cell_type": "code",
      "execution_count": null,
      "id": "02e9b63c",
      "metadata": {
        "id": "02e9b63c"
      },
      "outputs": [],
      "source": [
        "# Filtering values\n",
        "numbers = [1, 2, 3, 4, 5, 6, 7, 8, 9, 10]\n",
        "even_numbers = []\n",
        "for num in numbers:\n",
        "    if num % 2 == 0:\n",
        "        even_numbers.append(num)\n",
        "print(f\"Even numbers: {even_numbers}\")"
      ]
    },
    {
      "cell_type": "markdown",
      "id": "71084ba1",
      "metadata": {
        "id": "71084ba1"
      },
      "source": [
        "\n",
        "## 7. Practice Problems\n",
        "\n",
        "Try solving these problems using loops:\n",
        "\n",
        "1. Print the first 10 natural numbers using a while loop.\n",
        "2. Print the multiplication table (unitl 10) of a given number using a for loop.\n",
        "3. Count the number of vowels in a given string.\n",
        "4. Write a program to check if a number is prime.\n",
        "5.  Print a pattern of stars\n"
      ]
    },
    {
      "cell_type": "code",
      "execution_count": null,
      "id": "59fdf462",
      "metadata": {
        "id": "59fdf462"
      },
      "outputs": [],
      "source": [
        "\n",
        "# Problem 1: Print the first 10 natural numbers\n",
        "n = 1\n",
        "while n <= 10:\n",
        "    print(n)\n",
        "    n += 1\n"
      ]
    },
    {
      "cell_type": "code",
      "execution_count": null,
      "id": "ae45b5ba",
      "metadata": {
        "id": "ae45b5ba"
      },
      "outputs": [],
      "source": [
        "\n",
        "# Problem 2: Multiplication table of 7\n",
        "for i in range(1, 11):\n",
        "    print(f\"7 x {i} = {7 * i}\")\n"
      ]
    },
    {
      "cell_type": "code",
      "execution_count": null,
      "id": "93ef6970",
      "metadata": {
        "id": "93ef6970"
      },
      "outputs": [],
      "source": [
        "\n",
        "# Problem 3: Count vowels in a string\n",
        "text = \"Hello World\"\n",
        "vowels = \"aeiouAEIOU\"\n",
        "count = 0\n",
        "for char in text:\n",
        "    if char in vowels:\n",
        "        count += 1\n",
        "print(\"Number of vowels:\", count)\n"
      ]
    }
  ],
  "metadata": {
    "kernelspec": {
      "display_name": "Python 3",
      "language": "python",
      "name": "python3"
    },
    "language_info": {
      "codemirror_mode": {
        "name": "ipython",
        "version": 3
      },
      "file_extension": ".py",
      "mimetype": "text/x-python",
      "name": "python",
      "nbconvert_exporter": "python",
      "pygments_lexer": "ipython3",
      "version": "3.11.9"
    },
    "colab": {
      "provenance": [],
      "include_colab_link": true
    }
  },
  "nbformat": 4,
  "nbformat_minor": 5
}